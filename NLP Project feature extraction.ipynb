{
 "cells": [
  {
   "cell_type": "markdown",
   "id": "e5b61088",
   "metadata": {},
   "source": [
    "### Importing all the required libraries"
   ]
  },
  {
   "cell_type": "code",
   "execution_count": 62,
   "id": "fef78e1b",
   "metadata": {},
   "outputs": [],
   "source": [
    "import numpy as np\n",
    "import pandas as pd\n",
    "import re\n",
    "import nltk\n",
    "from nltk.tokenize import word_tokenize,sent_tokenize\n",
    "from nltk.corpus import stopwords\n",
    "from nltk.stem import PorterStemmer,LancasterStemmer,SnowballStemmer,WordNetLemmatizer\n",
    "import sklearn\n",
    "from sklearn.feature_extraction.text import CountVectorizer\n",
    "from autocorrect import Speller\n",
    "import emoji"
   ]
  },
  {
   "cell_type": "code",
   "execution_count": 2,
   "id": "67acfe87",
   "metadata": {},
   "outputs": [],
   "source": [
    "data1 = pd.read_json(r\"C:\\Users\\srava\\Downloads\\hotel_reviews (2).json\")"
   ]
  },
  {
   "cell_type": "code",
   "execution_count": 3,
   "id": "7d749890",
   "metadata": {},
   "outputs": [
    {
     "data": {
      "text/html": [
       "<div>\n",
       "<style scoped>\n",
       "    .dataframe tbody tr th:only-of-type {\n",
       "        vertical-align: middle;\n",
       "    }\n",
       "\n",
       "    .dataframe tbody tr th {\n",
       "        vertical-align: top;\n",
       "    }\n",
       "\n",
       "    .dataframe thead th {\n",
       "        text-align: right;\n",
       "    }\n",
       "</style>\n",
       "<table border=\"1\" class=\"dataframe\">\n",
       "  <thead>\n",
       "    <tr style=\"text-align: right;\">\n",
       "      <th></th>\n",
       "      <th>review</th>\n",
       "      <th>sentiment</th>\n",
       "    </tr>\n",
       "  </thead>\n",
       "  <tbody>\n",
       "    <tr>\n",
       "      <th>0</th>\n",
       "      <td>The walls were thin and could hear noise from ...</td>\n",
       "      <td>positive</td>\n",
       "    </tr>\n",
       "    <tr>\n",
       "      <th>1</th>\n",
       "      <td>The walls were thin and could hear noise from ...</td>\n",
       "      <td>negative</td>\n",
       "    </tr>\n",
       "    <tr>\n",
       "      <th>2</th>\n",
       "      <td>The food was overpriced and not very tasty. 😐</td>\n",
       "      <td>neutral</td>\n",
       "    </tr>\n",
       "    <tr>\n",
       "      <th>3</th>\n",
       "      <td>An average stay, nothing special but no major ...</td>\n",
       "      <td>positive</td>\n",
       "    </tr>\n",
       "    <tr>\n",
       "      <th>4</th>\n",
       "      <td>Loved the spa and pool area! A truly relaxing ...</td>\n",
       "      <td>negative</td>\n",
       "    </tr>\n",
       "    <tr>\n",
       "      <th>...</th>\n",
       "      <td>...</td>\n",
       "      <td>...</td>\n",
       "    </tr>\n",
       "    <tr>\n",
       "      <th>3995</th>\n",
       "      <td>An average stay, nothing special but no major ...</td>\n",
       "      <td>neutral</td>\n",
       "    </tr>\n",
       "    <tr>\n",
       "      <th>3996</th>\n",
       "      <td>Very clean rooms and excellent location. Highl...</td>\n",
       "      <td>positive</td>\n",
       "    </tr>\n",
       "    <tr>\n",
       "      <th>3997</th>\n",
       "      <td>The hotel was okay, not great but not terrible...</td>\n",
       "      <td>negative</td>\n",
       "    </tr>\n",
       "    <tr>\n",
       "      <th>3998</th>\n",
       "      <td>Unfriendly staff and the breakfast was disappo...</td>\n",
       "      <td>neutral</td>\n",
       "    </tr>\n",
       "    <tr>\n",
       "      <th>3999</th>\n",
       "      <td>Very clean rooms and excellent location. Highl...</td>\n",
       "      <td>positive</td>\n",
       "    </tr>\n",
       "  </tbody>\n",
       "</table>\n",
       "<p>4000 rows × 2 columns</p>\n",
       "</div>"
      ],
      "text/plain": [
       "                                                 review sentiment\n",
       "0     The walls were thin and could hear noise from ...  positive\n",
       "1     The walls were thin and could hear noise from ...  negative\n",
       "2         The food was overpriced and not very tasty. 😐   neutral\n",
       "3     An average stay, nothing special but no major ...  positive\n",
       "4     Loved the spa and pool area! A truly relaxing ...  negative\n",
       "...                                                 ...       ...\n",
       "3995  An average stay, nothing special but no major ...   neutral\n",
       "3996  Very clean rooms and excellent location. Highl...  positive\n",
       "3997  The hotel was okay, not great but not terrible...  negative\n",
       "3998  Unfriendly staff and the breakfast was disappo...   neutral\n",
       "3999  Very clean rooms and excellent location. Highl...  positive\n",
       "\n",
       "[4000 rows x 2 columns]"
      ]
     },
     "execution_count": 3,
     "metadata": {},
     "output_type": "execute_result"
    }
   ],
   "source": [
    "data1"
   ]
  },
  {
   "cell_type": "markdown",
   "id": "9ff93dcc",
   "metadata": {},
   "source": [
    "### Converting json file to csv and saved it"
   ]
  },
  {
   "cell_type": "code",
   "execution_count": 8,
   "id": "af626f34",
   "metadata": {},
   "outputs": [],
   "source": [
    "data2 = data1.to_csv(r'C:\\\\Users\\srava\\Downloads.csv')"
   ]
  },
  {
   "cell_type": "code",
   "execution_count": 26,
   "id": "a5079870",
   "metadata": {},
   "outputs": [],
   "source": [
    "data_c = pd.read_csv(r\"C:\\Users\\srava\\Downloads\\hotel_reviews (2).csv\")"
   ]
  },
  {
   "cell_type": "code",
   "execution_count": 27,
   "id": "9514be06",
   "metadata": {},
   "outputs": [
    {
     "data": {
      "text/html": [
       "<div>\n",
       "<style scoped>\n",
       "    .dataframe tbody tr th:only-of-type {\n",
       "        vertical-align: middle;\n",
       "    }\n",
       "\n",
       "    .dataframe tbody tr th {\n",
       "        vertical-align: top;\n",
       "    }\n",
       "\n",
       "    .dataframe thead th {\n",
       "        text-align: right;\n",
       "    }\n",
       "</style>\n",
       "<table border=\"1\" class=\"dataframe\">\n",
       "  <thead>\n",
       "    <tr style=\"text-align: right;\">\n",
       "      <th></th>\n",
       "      <th>Unnamed: 0</th>\n",
       "      <th>review</th>\n",
       "      <th>sentiment</th>\n",
       "    </tr>\n",
       "  </thead>\n",
       "  <tbody>\n",
       "    <tr>\n",
       "      <th>0</th>\n",
       "      <td>0</td>\n",
       "      <td>The walls were thin and could hear noise from ...</td>\n",
       "      <td>positive</td>\n",
       "    </tr>\n",
       "    <tr>\n",
       "      <th>1</th>\n",
       "      <td>1</td>\n",
       "      <td>The walls were thin and could hear noise from ...</td>\n",
       "      <td>negative</td>\n",
       "    </tr>\n",
       "    <tr>\n",
       "      <th>2</th>\n",
       "      <td>2</td>\n",
       "      <td>The food was overpriced and not very tasty. 😐</td>\n",
       "      <td>neutral</td>\n",
       "    </tr>\n",
       "    <tr>\n",
       "      <th>3</th>\n",
       "      <td>3</td>\n",
       "      <td>An average stay, nothing special but no major ...</td>\n",
       "      <td>positive</td>\n",
       "    </tr>\n",
       "    <tr>\n",
       "      <th>4</th>\n",
       "      <td>4</td>\n",
       "      <td>Loved the spa and pool area! A truly relaxing ...</td>\n",
       "      <td>negative</td>\n",
       "    </tr>\n",
       "  </tbody>\n",
       "</table>\n",
       "</div>"
      ],
      "text/plain": [
       "   Unnamed: 0                                             review sentiment\n",
       "0           0  The walls were thin and could hear noise from ...  positive\n",
       "1           1  The walls were thin and could hear noise from ...  negative\n",
       "2           2      The food was overpriced and not very tasty. 😐   neutral\n",
       "3           3  An average stay, nothing special but no major ...  positive\n",
       "4           4  Loved the spa and pool area! A truly relaxing ...  negative"
      ]
     },
     "execution_count": 27,
     "metadata": {},
     "output_type": "execute_result"
    }
   ],
   "source": [
    "data_c.head()"
   ]
  },
  {
   "cell_type": "code",
   "execution_count": 28,
   "id": "f02a0f96",
   "metadata": {},
   "outputs": [],
   "source": [
    "data_2 = data_c.copy()"
   ]
  },
  {
   "cell_type": "code",
   "execution_count": 29,
   "id": "34a76de0",
   "metadata": {},
   "outputs": [],
   "source": [
    "data_2 = data_2.drop('Unnamed: 0',axis=1)"
   ]
  },
  {
   "cell_type": "code",
   "execution_count": 30,
   "id": "9422fe07",
   "metadata": {},
   "outputs": [
    {
     "data": {
      "text/html": [
       "<div>\n",
       "<style scoped>\n",
       "    .dataframe tbody tr th:only-of-type {\n",
       "        vertical-align: middle;\n",
       "    }\n",
       "\n",
       "    .dataframe tbody tr th {\n",
       "        vertical-align: top;\n",
       "    }\n",
       "\n",
       "    .dataframe thead th {\n",
       "        text-align: right;\n",
       "    }\n",
       "</style>\n",
       "<table border=\"1\" class=\"dataframe\">\n",
       "  <thead>\n",
       "    <tr style=\"text-align: right;\">\n",
       "      <th></th>\n",
       "      <th>review</th>\n",
       "      <th>sentiment</th>\n",
       "    </tr>\n",
       "  </thead>\n",
       "  <tbody>\n",
       "    <tr>\n",
       "      <th>0</th>\n",
       "      <td>The walls were thin and could hear noise from ...</td>\n",
       "      <td>positive</td>\n",
       "    </tr>\n",
       "    <tr>\n",
       "      <th>1</th>\n",
       "      <td>The walls were thin and could hear noise from ...</td>\n",
       "      <td>negative</td>\n",
       "    </tr>\n",
       "    <tr>\n",
       "      <th>2</th>\n",
       "      <td>The food was overpriced and not very tasty. 😐</td>\n",
       "      <td>neutral</td>\n",
       "    </tr>\n",
       "    <tr>\n",
       "      <th>3</th>\n",
       "      <td>An average stay, nothing special but no major ...</td>\n",
       "      <td>positive</td>\n",
       "    </tr>\n",
       "    <tr>\n",
       "      <th>4</th>\n",
       "      <td>Loved the spa and pool area! A truly relaxing ...</td>\n",
       "      <td>negative</td>\n",
       "    </tr>\n",
       "    <tr>\n",
       "      <th>...</th>\n",
       "      <td>...</td>\n",
       "      <td>...</td>\n",
       "    </tr>\n",
       "    <tr>\n",
       "      <th>3995</th>\n",
       "      <td>An average stay, nothing special but no major ...</td>\n",
       "      <td>neutral</td>\n",
       "    </tr>\n",
       "    <tr>\n",
       "      <th>3996</th>\n",
       "      <td>Very clean rooms and excellent location. Highl...</td>\n",
       "      <td>positive</td>\n",
       "    </tr>\n",
       "    <tr>\n",
       "      <th>3997</th>\n",
       "      <td>The hotel was okay, not great but not terrible...</td>\n",
       "      <td>negative</td>\n",
       "    </tr>\n",
       "    <tr>\n",
       "      <th>3998</th>\n",
       "      <td>Unfriendly staff and the breakfast was disappo...</td>\n",
       "      <td>neutral</td>\n",
       "    </tr>\n",
       "    <tr>\n",
       "      <th>3999</th>\n",
       "      <td>Very clean rooms and excellent location. Highl...</td>\n",
       "      <td>positive</td>\n",
       "    </tr>\n",
       "  </tbody>\n",
       "</table>\n",
       "<p>4000 rows × 2 columns</p>\n",
       "</div>"
      ],
      "text/plain": [
       "                                                 review sentiment\n",
       "0     The walls were thin and could hear noise from ...  positive\n",
       "1     The walls were thin and could hear noise from ...  negative\n",
       "2         The food was overpriced and not very tasty. 😐   neutral\n",
       "3     An average stay, nothing special but no major ...  positive\n",
       "4     Loved the spa and pool area! A truly relaxing ...  negative\n",
       "...                                                 ...       ...\n",
       "3995  An average stay, nothing special but no major ...   neutral\n",
       "3996  Very clean rooms and excellent location. Highl...  positive\n",
       "3997  The hotel was okay, not great but not terrible...  negative\n",
       "3998  Unfriendly staff and the breakfast was disappo...   neutral\n",
       "3999  Very clean rooms and excellent location. Highl...  positive\n",
       "\n",
       "[4000 rows x 2 columns]"
      ]
     },
     "execution_count": 30,
     "metadata": {},
     "output_type": "execute_result"
    }
   ],
   "source": [
    "data_2"
   ]
  },
  {
   "cell_type": "code",
   "execution_count": 59,
   "id": "6d74097e",
   "metadata": {},
   "outputs": [],
   "source": [
    "feature_var= data_2[['review']]"
   ]
  },
  {
   "cell_type": "markdown",
   "id": "483a10ad",
   "metadata": {},
   "source": [
    "# Step:1 Converting text to lower case"
   ]
  },
  {
   "cell_type": "code",
   "execution_count": 31,
   "id": "824013bf",
   "metadata": {},
   "outputs": [
    {
     "data": {
      "text/plain": [
       "False"
      ]
     },
     "execution_count": 31,
     "metadata": {},
     "output_type": "execute_result"
    }
   ],
   "source": [
    "\" \".join(data_2['review']).islower()"
   ]
  },
  {
   "cell_type": "code",
   "execution_count": 126,
   "id": "d62c7924",
   "metadata": {},
   "outputs": [],
   "source": [
    "def eda(data,name):\n",
    "    html_=data[name].apply(lambda x:True if re.search(\"<.+?>\",x) else False).sum()\n",
    "    if html>0:\n",
    "        print(\"html tags are there\")"
   ]
  },
  {
   "cell_type": "code",
   "execution_count": null,
   "id": "533adcbb",
   "metadata": {},
   "outputs": [],
   "source": []
  },
  {
   "cell_type": "code",
   "execution_count": 60,
   "id": "b212a9da",
   "metadata": {
    "scrolled": true
   },
   "outputs": [
    {
     "data": {
      "text/html": [
       "<div>\n",
       "<style scoped>\n",
       "    .dataframe tbody tr th:only-of-type {\n",
       "        vertical-align: middle;\n",
       "    }\n",
       "\n",
       "    .dataframe tbody tr th {\n",
       "        vertical-align: top;\n",
       "    }\n",
       "\n",
       "    .dataframe thead th {\n",
       "        text-align: right;\n",
       "    }\n",
       "</style>\n",
       "<table border=\"1\" class=\"dataframe\">\n",
       "  <thead>\n",
       "    <tr style=\"text-align: right;\">\n",
       "      <th></th>\n",
       "      <th>review</th>\n",
       "    </tr>\n",
       "  </thead>\n",
       "  <tbody>\n",
       "    <tr>\n",
       "      <th>0</th>\n",
       "      <td>The walls were thin and could hear noise from ...</td>\n",
       "    </tr>\n",
       "    <tr>\n",
       "      <th>1</th>\n",
       "      <td>The walls were thin and could hear noise from ...</td>\n",
       "    </tr>\n",
       "    <tr>\n",
       "      <th>2</th>\n",
       "      <td>The food was overpriced and not very tasty. 😐</td>\n",
       "    </tr>\n",
       "    <tr>\n",
       "      <th>3</th>\n",
       "      <td>An average stay, nothing special but no major ...</td>\n",
       "    </tr>\n",
       "    <tr>\n",
       "      <th>4</th>\n",
       "      <td>Loved the spa and pool area! A truly relaxing ...</td>\n",
       "    </tr>\n",
       "    <tr>\n",
       "      <th>...</th>\n",
       "      <td>...</td>\n",
       "    </tr>\n",
       "    <tr>\n",
       "      <th>3995</th>\n",
       "      <td>An average stay, nothing special but no major ...</td>\n",
       "    </tr>\n",
       "    <tr>\n",
       "      <th>3996</th>\n",
       "      <td>Very clean rooms and excellent location. Highl...</td>\n",
       "    </tr>\n",
       "    <tr>\n",
       "      <th>3997</th>\n",
       "      <td>The hotel was okay, not great but not terrible...</td>\n",
       "    </tr>\n",
       "    <tr>\n",
       "      <th>3998</th>\n",
       "      <td>Unfriendly staff and the breakfast was disappo...</td>\n",
       "    </tr>\n",
       "    <tr>\n",
       "      <th>3999</th>\n",
       "      <td>Very clean rooms and excellent location. Highl...</td>\n",
       "    </tr>\n",
       "  </tbody>\n",
       "</table>\n",
       "<p>4000 rows × 1 columns</p>\n",
       "</div>"
      ],
      "text/plain": [
       "                                                 review\n",
       "0     The walls were thin and could hear noise from ...\n",
       "1     The walls were thin and could hear noise from ...\n",
       "2         The food was overpriced and not very tasty. 😐\n",
       "3     An average stay, nothing special but no major ...\n",
       "4     Loved the spa and pool area! A truly relaxing ...\n",
       "...                                                 ...\n",
       "3995  An average stay, nothing special but no major ...\n",
       "3996  Very clean rooms and excellent location. Highl...\n",
       "3997  The hotel was okay, not great but not terrible...\n",
       "3998  Unfriendly staff and the breakfast was disappo...\n",
       "3999  Very clean rooms and excellent location. Highl...\n",
       "\n",
       "[4000 rows x 1 columns]"
      ]
     },
     "execution_count": 60,
     "metadata": {},
     "output_type": "execute_result"
    }
   ],
   "source": [
    "feature_var"
   ]
  },
  {
   "cell_type": "markdown",
   "id": "2bc41a4c",
   "metadata": {},
   "source": [
    "## Finding the html tags, url's, Special characters in the dataset"
   ]
  },
  {
   "cell_type": "code",
   "execution_count": 52,
   "id": "02fcdfcb",
   "metadata": {},
   "outputs": [
    {
     "data": {
      "text/plain": [
       "0"
      ]
     },
     "execution_count": 52,
     "metadata": {},
     "output_type": "execute_result"
    }
   ],
   "source": [
    "feature_var.apply(lambda x:True if re.search(\"<.+?>\",x) else False).sum()\n",
    "# there are no html tags in the dataset"
   ]
  },
  {
   "cell_type": "code",
   "execution_count": 53,
   "id": "8156d742",
   "metadata": {},
   "outputs": [
    {
     "data": {
      "text/plain": [
       "0"
      ]
     },
     "execution_count": 53,
     "metadata": {},
     "output_type": "execute_result"
    }
   ],
   "source": [
    "feature_var.apply(lambda x:True if re.search(\"http[s]?://.+? +\",x) else False).sum()\n",
    "# there are no url's in the dataset"
   ]
  },
  {
   "cell_type": "code",
   "execution_count": 54,
   "id": "fe200a1c",
   "metadata": {},
   "outputs": [
    {
     "data": {
      "text/plain": [
       "4000"
      ]
     },
     "execution_count": 54,
     "metadata": {},
     "output_type": "execute_result"
    }
   ],
   "source": [
    "feature_var.apply(lambda x:True if re.search(\"[]()*\\-.,@#$%^&0-9]\",x) else False).sum()\n",
    "# there are special characters in the dataset"
   ]
  },
  {
   "cell_type": "code",
   "execution_count": null,
   "id": "0589b84b",
   "metadata": {},
   "outputs": [],
   "source": []
  },
  {
   "cell_type": "code",
   "execution_count": 78,
   "id": "15ce131c",
   "metadata": {},
   "outputs": [
    {
     "name": "stderr",
     "output_type": "stream",
     "text": [
      "C:\\Users\\srava\\AppData\\Local\\Temp\\ipykernel_30464\\726179679.py:3: SettingWithCopyWarning: \n",
      "A value is trying to be set on a copy of a slice from a DataFrame.\n",
      "Try using .loc[row_indexer,col_indexer] = value instead\n",
      "\n",
      "See the caveats in the documentation: https://pandas.pydata.org/pandas-docs/stable/user_guide/indexing.html#returning-a-view-versus-a-copy\n",
      "  feature_var['review']=feature_var['review'].apply(convert_emojis_to_text)\n"
     ]
    }
   ],
   "source": [
    "def convert_emojis_to_text(text):\n",
    "    return emoji.demojize(text)\n",
    "feature_var['review']=feature_var['review'].apply(convert_emojis_to_text)"
   ]
  },
  {
   "cell_type": "code",
   "execution_count": 94,
   "id": "b926019c",
   "metadata": {},
   "outputs": [],
   "source": [
    "def txtpp(y,correct,emojii):\n",
    "    from textblob import TextBlob\n",
    "    spell=Speller(lang=\"en\")\n",
    "    y=y.lower()\n",
    "    y=re.sub(\"[]:()*\\-.,@#$%^&0-9]\",\" \",y)\n",
    "    y=re.sub(\"\\s+\",\" \",y)\n",
    "    if correct==\"t\":\n",
    "        y=TextBlob(y).correct().string\n",
    "    else:\n",
    "        y=spell(y)\n",
    "    return y"
   ]
  },
  {
   "cell_type": "code",
   "execution_count": 95,
   "id": "4e860013",
   "metadata": {},
   "outputs": [
    {
     "name": "stderr",
     "output_type": "stream",
     "text": [
      "C:\\Users\\srava\\AppData\\Local\\Temp\\ipykernel_30464\\738733230.py:1: SettingWithCopyWarning: \n",
      "A value is trying to be set on a copy of a slice from a DataFrame.\n",
      "Try using .loc[row_indexer,col_indexer] = value instead\n",
      "\n",
      "See the caveats in the documentation: https://pandas.pydata.org/pandas-docs/stable/user_guide/indexing.html#returning-a-view-versus-a-copy\n",
      "  feature_var['review']=feature_var[\"review\"].apply(txtpp,args=(\"spell\",False))\n"
     ]
    }
   ],
   "source": [
    "feature_var['review']=feature_var[\"review\"].apply(txtpp,args=(\"spell\",False))"
   ]
  },
  {
   "cell_type": "code",
   "execution_count": 96,
   "id": "404c1628",
   "metadata": {},
   "outputs": [
    {
     "data": {
      "text/plain": [
       "0       the walls were thin and could hear noise from ...\n",
       "1       the walls were thin and could hear noise from ...\n",
       "2       the food was overpriced and not very tasty neu...\n",
       "3       an average stay nothing special but no major p...\n",
       "4       loved the spa and pool area! a truly relaxing ...\n",
       "                              ...                        \n",
       "3995    an average stay nothing special but no major p...\n",
       "3996    very clean rooms and excellent location highly...\n",
       "3997    the hotel was okay not great but not terrible ...\n",
       "3998    unfriendly staff and the breakfast was disappo...\n",
       "3999    very clean rooms and excellent location highly...\n",
       "Name: review, Length: 4000, dtype: object"
      ]
     },
     "execution_count": 96,
     "metadata": {},
     "output_type": "execute_result"
    }
   ],
   "source": [
    "feature_var['review']"
   ]
  },
  {
   "cell_type": "code",
   "execution_count": 93,
   "id": "987b7c56",
   "metadata": {},
   "outputs": [
    {
     "data": {
      "text/plain": [
       "'the food was overpriced and not very tasty n'"
      ]
     },
     "execution_count": 93,
     "metadata": {},
     "output_type": "execute_result"
    }
   ],
   "source": [
    "y = 'the food was overpriced and not very tasty   n'\n",
    "re.sub(\"[]:()*\\-.,@#$%^&0-9]\",\" \",y)\n",
    "re.sub(\"\\s+\",\" \",y)"
   ]
  },
  {
   "cell_type": "code",
   "execution_count": 97,
   "id": "f3e06bb7",
   "metadata": {},
   "outputs": [
    {
     "data": {
      "text/plain": [
       "4000"
      ]
     },
     "execution_count": 97,
     "metadata": {},
     "output_type": "execute_result"
    }
   ],
   "source": [
    "feature_var['review'].apply(lambda x:True if re.search(\"\\s+\",y) else False).sum()"
   ]
  },
  {
   "cell_type": "code",
   "execution_count": 100,
   "id": "e70ef18a",
   "metadata": {},
   "outputs": [
    {
     "name": "stderr",
     "output_type": "stream",
     "text": [
      "[nltk_data] Downloading package punkt to\n",
      "[nltk_data]     C:\\Users\\srava\\AppData\\Roaming\\nltk_data...\n",
      "[nltk_data]   Package punkt is already up-to-date!\n"
     ]
    },
    {
     "data": {
      "text/plain": [
       "True"
      ]
     },
     "execution_count": 100,
     "metadata": {},
     "output_type": "execute_result"
    }
   ],
   "source": [
    "nltk.download('punkt')"
   ]
  },
  {
   "cell_type": "code",
   "execution_count": 106,
   "id": "c89512fb",
   "metadata": {},
   "outputs": [
    {
     "name": "stdout",
     "output_type": "stream",
     "text": [
      "['i', 'me', 'my', 'myself', 'we', 'our', 'ours', 'ourselves', 'you', \"you're\", \"you've\", \"you'll\", \"you'd\", 'your', 'yours', 'yourself', 'yourselves', 'he', 'him', 'his', 'himself', 'she', \"she's\", 'her', 'hers', 'herself', 'it', \"it's\", 'its', 'itself', 'they', 'them', 'their', 'theirs', 'themselves', 'what', 'which', 'who', 'whom', 'this', 'that', \"that'll\", 'these', 'those', 'am', 'is', 'are', 'was', 'were', 'be', 'been', 'being', 'have', 'has', 'had', 'having', 'do', 'does', 'did', 'doing', 'a', 'an', 'the', 'and', 'but', 'if', 'or', 'because', 'as', 'until', 'while', 'of', 'at', 'by', 'for', 'with', 'about', 'against', 'between', 'into', 'through', 'during', 'before', 'after', 'above', 'below', 'to', 'from', 'up', 'down', 'in', 'out', 'on', 'off', 'over', 'under', 'again', 'further', 'then', 'once', 'here', 'there', 'when', 'where', 'why', 'how', 'all', 'any', 'both', 'each', 'few', 'more', 'most', 'other', 'some', 'such', 'no', 'nor', 'not', 'only', 'own', 'same', 'so', 'than', 'too', 'very', 's', 't', 'can', 'will', 'just', 'don', \"don't\", 'should', \"should've\", 'now', 'd', 'll', 'm', 'o', 're', 've', 'y', 'ain', 'aren', \"aren't\", 'couldn', \"couldn't\", 'didn', \"didn't\", 'doesn', \"doesn't\", 'hadn', \"hadn't\", 'hasn', \"hasn't\", 'haven', \"haven't\", 'isn', \"isn't\", 'ma', 'mightn', \"mightn't\", 'mustn', \"mustn't\", 'needn', \"needn't\", 'shan', \"shan't\", 'shouldn', \"shouldn't\", 'wasn', \"wasn't\", 'weren', \"weren't\", 'won', \"won't\", 'wouldn', \"wouldn't\"]\n"
     ]
    }
   ],
   "source": [
    "stop = stopwords.words('english')\n",
    "print(stop)"
   ]
  },
  {
   "cell_type": "code",
   "execution_count": 103,
   "id": "cd88848d",
   "metadata": {},
   "outputs": [],
   "source": [
    "ps = PorterStemmer()\n",
    "ls = LancasterStemmer()\n",
    "ss = SnowballStemmer(language='english')"
   ]
  },
  {
   "cell_type": "code",
   "execution_count": 107,
   "id": "9381729d",
   "metadata": {},
   "outputs": [],
   "source": [
    "def advpp(x,stemm):\n",
    "    l=[]\n",
    "    for word in word_tokenize(x):\n",
    "        if word in stop:\n",
    "            pass\n",
    "        else:\n",
    "            if stemm == 'p':\n",
    "                l.append(ps.stem(word))\n",
    "            elif stemm == 'l':\n",
    "                l.append(ps.stem(word))\n",
    "            elif stemm == 's':\n",
    "                l.append(ps.stem(word))\n",
    "            else:\n",
    "                l.append(word)\n",
    "    return \" \".join(l)"
   ]
  },
  {
   "cell_type": "code",
   "execution_count": 113,
   "id": "d091f927",
   "metadata": {},
   "outputs": [],
   "source": [
    "feature_var['review']=feature_var['review'].apply(advpp,args='p')"
   ]
  },
  {
   "cell_type": "code",
   "execution_count": 116,
   "id": "a7b2f203",
   "metadata": {},
   "outputs": [],
   "source": [
    "def txtpp(y):#,correct,emojii):\n",
    "    #from textblob import TextBlob\n",
    "    #spell=Speller(lang=\"en\")\n",
    "    #y=y.lower()\n",
    "    y=re.sub(\"[^a-z]\",\" \",y)\n",
    "    y=re.sub(\"\\s+\",\" \",y)\n",
    "    #if correct==\"t\":\n",
    "       # y=TextBlob(y).correct().string\n",
    "   # else:\n",
    "        #y=spell(y)\n",
    "    return y"
   ]
  },
  {
   "cell_type": "code",
   "execution_count": 117,
   "id": "2400ffb4",
   "metadata": {},
   "outputs": [],
   "source": [
    "feature_var['review']=  feature_var['review'].apply(advpp)"
   ]
  },
  {
   "cell_type": "code",
   "execution_count": 119,
   "id": "f25b1964",
   "metadata": {},
   "outputs": [
    {
     "data": {
      "text/plain": [
       "0       wall thin could hear nois room good stay smili...\n",
       "1       wall thin could hear nois room good stay disap...\n",
       "2                           food overpr tasti neutral fac\n",
       "3       averag stay noth special major problem smiling...\n",
       "4       love spa pool area truli relax experi disappoi...\n",
       "                              ...                        \n",
       "3995    averag stay noth special major problem neutral...\n",
       "3996    clean room excel locat highli recommend smilin...\n",
       "3997     hotel okay great terribl either disappointed fac\n",
       "3998    unfriendli staff breakfast disappoint neutral fac\n",
       "3999    clean room excel locat highli recommend smilin...\n",
       "Name: review, Length: 4000, dtype: object"
      ]
     },
     "execution_count": 119,
     "metadata": {},
     "output_type": "execute_result"
    }
   ],
   "source": [
    "feature_var['review']"
   ]
  },
  {
   "cell_type": "code",
   "execution_count": 120,
   "id": "2e9348d4",
   "metadata": {},
   "outputs": [],
   "source": [
    "cv=CountVectorizer(ngram_range=(1,1))"
   ]
  },
  {
   "cell_type": "code",
   "execution_count": 122,
   "id": "db49b95d",
   "metadata": {},
   "outputs": [],
   "source": [
    "final_cv=cv.fit_transform(feature_var['review']).toarray()"
   ]
  },
  {
   "cell_type": "code",
   "execution_count": 124,
   "id": "99712cf7",
   "metadata": {},
   "outputs": [
    {
     "data": {
      "text/plain": [
       "array([[0, 0, 0, ..., 1, 1, 0],\n",
       "       [0, 0, 0, ..., 1, 0, 0],\n",
       "       [0, 0, 0, ..., 0, 0, 0],\n",
       "       ...,\n",
       "       [0, 0, 0, ..., 0, 0, 0],\n",
       "       [0, 0, 0, ..., 0, 0, 0],\n",
       "       [0, 0, 0, ..., 0, 1, 0]], dtype=int64)"
      ]
     },
     "execution_count": 124,
     "metadata": {},
     "output_type": "execute_result"
    }
   ],
   "source": [
    "final_cv"
   ]
  },
  {
   "cell_type": "code",
   "execution_count": null,
   "id": "80143220",
   "metadata": {},
   "outputs": [],
   "source": []
  }
 ],
 "metadata": {
  "kernelspec": {
   "display_name": "Python 3 (ipykernel)",
   "language": "python",
   "name": "python3"
  },
  "language_info": {
   "codemirror_mode": {
    "name": "ipython",
    "version": 3
   },
   "file_extension": ".py",
   "mimetype": "text/x-python",
   "name": "python",
   "nbconvert_exporter": "python",
   "pygments_lexer": "ipython3",
   "version": "3.11.3"
  }
 },
 "nbformat": 4,
 "nbformat_minor": 5
}
